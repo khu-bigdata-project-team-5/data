{
 "cells": [
  {
   "cell_type": "code",
   "execution_count": 1,
   "metadata": {},
   "outputs": [
    {
     "name": "stdout",
     "output_type": "stream",
     "text": [
      "      lecture_id  comment_count\n",
      "0          18968             82\n",
      "1          19174            161\n",
      "2          19271            155\n",
      "3          19671             44\n",
      "4          19687             25\n",
      "...          ...            ...\n",
      "2782      333602              5\n",
      "2783      333621              4\n",
      "2784      333626              2\n",
      "2785      333632              1\n",
      "2786      333685              2\n",
      "\n",
      "[2786 rows x 2 columns]\n",
      "Results have been saved to comments_count.csv\n"
     ]
    }
   ],
   "source": [
    "import pandas as pd\n",
    "\n",
    "# 데이터 로드\n",
    "data = pd.read_csv('combined_course_reviews.csv')\n",
    "\n",
    "data_cleaned = data.dropna(subset=['comment'])  # 결측값 채우기, 여기서는 댓글이 없는 행 삭제\n",
    "\n",
    "# 각 강좌의 댓글 수를 집계\n",
    "comments_count = data_cleaned.groupby('lecture_id').size().reset_index(name='comment_count')\n",
    "\n",
    "# 댓글 수 비교, 댓글 수가 다른 강좌 추출\n",
    "max_comment_count = comments_count['comment_count'].max()\n",
    "comments_count = comments_count[comments_count['comment_count'] != max_comment_count]\n",
    "\n",
    "# 결과를 CSV 파일로 저장\n",
    "output_file = 'comments_count.csv'\n",
    "comments_count.to_csv(output_file, index=False)\n",
    "\n",
    "# 결과 출력\n",
    "print(comments_count)\n",
    "\n",
    "print(f\"Results have been saved to {output_file}\")\n"
   ]
  }
 ],
 "metadata": {
  "kernelspec": {
   "display_name": "Python 3",
   "language": "python",
   "name": "python3"
  },
  "language_info": {
   "codemirror_mode": {
    "name": "ipython",
    "version": 3
   },
   "file_extension": ".py",
   "mimetype": "text/x-python",
   "name": "python",
   "nbconvert_exporter": "python",
   "pygments_lexer": "ipython3",
   "version": "3.11.2"
  }
 },
 "nbformat": 4,
 "nbformat_minor": 2
}
